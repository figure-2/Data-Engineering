{
 "cells": [
  {
   "cell_type": "code",
   "execution_count": 14,
   "id": "d51ffe86",
   "metadata": {},
   "outputs": [
    {
     "name": "stderr",
     "output_type": "stream",
     "text": [
      "23/11/15 14:13:12 WARN Utils: Service 'SparkUI' could not bind on port 4040. Attempting port 4041.\n"
     ]
    },
    {
     "data": {
      "text/html": [
       "\n",
       "        <div>\n",
       "            <p><b>SparkContext</b></p>\n",
       "\n",
       "            <p><a href=\"http://0.0.0.0:4041\">Spark UI</a></p>\n",
       "\n",
       "            <dl>\n",
       "              <dt>Version</dt>\n",
       "                <dd><code>v3.2.4</code></dd>\n",
       "              <dt>Master</dt>\n",
       "                <dd><code>local</code></dd>\n",
       "              <dt>AppName</dt>\n",
       "                <dd><code>Key_Value_RDD_OP</code></dd>\n",
       "            </dl>\n",
       "        </div>\n",
       "        "
      ],
      "text/plain": [
       "<SparkContext master=local appName=Key_Value_RDD_OP>"
      ]
     },
     "execution_count": 14,
     "metadata": {},
     "output_type": "execute_result"
    }
   ],
   "source": [
    "from pyspark import SparkConf, SparkContext\n",
    "\n",
    "conf = SparkConf().setMaster(\"local\").setAppName(\"Key_Value_RDD_OP\")\n",
    "sc = SparkContext(conf=conf)\n",
    "sc"
   ]
  },
  {
   "cell_type": "markdown",
   "id": "b2d01e2c",
   "metadata": {},
   "source": [
    "# groupByKey\n",
    "* `k_v_RDD.groupByKey(numPartitions=None, partitionFunc=<function portable_hash>)`\n",
    "* 주어지는 key를 기준으로 Group을 만들어 줍니다.\n",
    "* Transformations 함수 입니다."
   ]
  },
  {
   "cell_type": "code",
   "execution_count": 15,
   "id": "655bc6ad",
   "metadata": {},
   "outputs": [
    {
     "data": {
      "text/plain": [
       "ParallelCollectionRDD[0] at readRDDFromFile at PythonRDD.scala:274"
      ]
     },
     "execution_count": 15,
     "metadata": {},
     "output_type": "execute_result"
    }
   ],
   "source": [
    "rdd = sc.parallelize([\n",
    "    (\"짜장면\", 15),\n",
    "    (\"짬뽕\", 10),\n",
    "    (\"짜장면\", 5)\n",
    "])\n",
    "\n",
    "rdd"
   ]
  },
  {
   "cell_type": "code",
   "execution_count": 16,
   "id": "a9710d42",
   "metadata": {},
   "outputs": [
    {
     "data": {
      "text/plain": [
       "PythonRDD[5] at RDD at PythonRDD.scala:53"
      ]
     },
     "execution_count": 16,
     "metadata": {},
     "output_type": "execute_result"
    }
   ],
   "source": [
    "rdd.groupByKey()"
   ]
  },
  {
   "cell_type": "code",
   "execution_count": 17,
   "id": "ae33d6d4",
   "metadata": {},
   "outputs": [
    {
     "data": {
      "text/plain": [
       "[('짜장면', 2), ('짬뽕', 1)]"
      ]
     },
     "execution_count": 17,
     "metadata": {},
     "output_type": "execute_result"
    }
   ],
   "source": [
    "# 각 그룹 별로 몇 개의 원소가 있는지 확인\n",
    "# \"짜장면\"은 그래로 두고 숫자의 value만 확인한다 => mapValues를 사용해서\n",
    "\n",
    "rdd.groupByKey().mapValues(len).collect()"
   ]
  },
  {
   "cell_type": "code",
   "execution_count": 18,
   "id": "26b1c089",
   "metadata": {},
   "outputs": [
    {
     "data": {
      "text/plain": [
       "[('짜장면', [15, 5]), ('짬뽕', [10])]"
      ]
     },
     "execution_count": 18,
     "metadata": {},
     "output_type": "execute_result"
    }
   ],
   "source": [
    "rdd.groupByKey().mapValues(list).collect()"
   ]
  },
  {
   "cell_type": "markdown",
   "id": "346e0dbe",
   "metadata": {},
   "source": [
    "# reduceByKey\n",
    "\n",
    "- keyvalueRdd, reduceByKey(<task>, numPartitions = None, partitionFunc = <function portable_hash>)\n",
    "- 주어지는 key를 기준으로 Group을 만들고 합쳐 (task대로) 줍니다.\n",
    "- Transformations 함수입니다.    \n",
    "\n",
    "key로 value값을 모아서 연산하는거 =>  reduceByKey"
   ]
  },
  {
   "cell_type": "code",
   "execution_count": 19,
   "id": "5ea1c64d",
   "metadata": {},
   "outputs": [
    {
     "data": {
      "text/plain": [
       "[('짜장면', 20), ('짬뽕', 10)]"
      ]
     },
     "execution_count": 19,
     "metadata": {},
     "output_type": "execute_result"
    }
   ],
   "source": [
    "rdd.reduceByKey(lambda x, y : x + y).collect()"
   ]
  },
  {
   "cell_type": "markdown",
   "id": "746f13b1",
   "metadata": {},
   "source": [
    "# mapValues\n",
    "- `KeyValueRDD.mapValues(<task>)`\n",
    "- 함수를 `Value`에만 적용합니다.\n",
    "    - 파티션과 키는 그 위치에 그대로 있습니다.\n",
    "- `Transformations`"
   ]
  },
  {
   "cell_type": "code",
   "execution_count": 20,
   "id": "74cc793f",
   "metadata": {},
   "outputs": [],
   "source": [
    "rdd = sc.parallelize([\n",
    "    (\"하의\", [\"청바지\", \"반바지\", \"치마\"]),\n",
    "    (\"상의\", [\"니트\", \"반팔\", \"긴팔\", \"나시\"])\n",
    "])"
   ]
  },
  {
   "cell_type": "code",
   "execution_count": 21,
   "id": "988fd14e",
   "metadata": {},
   "outputs": [
    {
     "data": {
      "text/plain": [
       "[('하의', 3), ('상의', 4)]"
      ]
     },
     "execution_count": 21,
     "metadata": {},
     "output_type": "execute_result"
    }
   ],
   "source": [
    "rdd.mapValues(len).collect()"
   ]
  },
  {
   "cell_type": "markdown",
   "id": "ac42deee",
   "metadata": {},
   "source": [
    "# countByKey\n",
    "- `KeyValueRDD.countByKey(<task>)`\n",
    "- 각 키가 가진 요소들의 개수를 센다.\n",
    "- `Action`"
   ]
  },
  {
   "cell_type": "code",
   "execution_count": 22,
   "id": "905fe35f",
   "metadata": {},
   "outputs": [
    {
     "data": {
      "text/plain": [
       "defaultdict(int, {'하의': 1, '상의': 1})"
      ]
     },
     "execution_count": 22,
     "metadata": {},
     "output_type": "execute_result"
    }
   ],
   "source": [
    "rdd.countByKey()"
   ]
  },
  {
   "cell_type": "markdown",
   "id": "497b1384",
   "metadata": {},
   "source": [
    "# Join\n",
    "- `Inner Join` : 서로간에 존재하는 키만 합쳐준다.\n",
    "- `Outer Join` : 기준이 되는 한 쪽에는 데이터가 있고, 다른 쪽에는 데이터가 없는 경우\n",
    "    - 설정한 기준에 따라서 기준에 맞는 데이터가 항상 남아있는다.\n",
    "    - `leftOuterJoin` : 왼쪽에 있는 rdd가 기준이 된다.( 함수를 호출 하는 쪽 )\n",
    "    - `rightOuterJoin` : 오른쪽에 있는 rdd가 기준이 된다. ( 함수에 매개변수로 들어가는 쪽 )"
   ]
  },
  {
   "cell_type": "code",
   "execution_count": 23,
   "id": "0afbbee4",
   "metadata": {},
   "outputs": [],
   "source": [
    "rdd1 = sc.parallelize([\n",
    "    (\"foo\", 1),\n",
    "    (\"goo\", 2),\n",
    "    (\"hoo\", 3)\n",
    "])\n",
    "\n",
    "rdd2 = sc.parallelize([\n",
    "    (\"foo\", 1),\n",
    "    (\"goo\", 2),\n",
    "    (\"goo\", 10),\n",
    "    (\"moo\", 6)\n",
    "])"
   ]
  },
  {
   "cell_type": "code",
   "execution_count": 24,
   "id": "3bef4623",
   "metadata": {},
   "outputs": [
    {
     "data": {
      "text/plain": [
       "[('foo', (1, 1)), ('goo', (2, 2)), ('goo', (2, 10))]"
      ]
     },
     "execution_count": 24,
     "metadata": {},
     "output_type": "execute_result"
    }
   ],
   "source": [
    "# Inner Join\n",
    "rdd1.join(rdd2).collect()"
   ]
  },
  {
   "cell_type": "code",
   "execution_count": 25,
   "id": "47ce3d54",
   "metadata": {},
   "outputs": [
    {
     "data": {
      "text/plain": [
       "[('foo', (1, 1)), ('goo', (2, 2)), ('goo', (2, 10)), ('hoo', (3, None))]"
      ]
     },
     "execution_count": 25,
     "metadata": {},
     "output_type": "execute_result"
    }
   ],
   "source": [
    "# Left Outer Join : join을 호출하는 쪽이 Left, 매개변수로 들어가는 쪽이 Right\n",
    "rdd1.leftOuterJoin(rdd2).collect()"
   ]
  },
  {
   "cell_type": "code",
   "execution_count": null,
   "id": "98bd0be1",
   "metadata": {},
   "outputs": [],
   "source": []
  },
  {
   "cell_type": "code",
   "execution_count": 26,
   "id": "6a687094",
   "metadata": {},
   "outputs": [],
   "source": [
    "sc.stop()"
   ]
  },
  {
   "cell_type": "code",
   "execution_count": null,
   "id": "cf3f21d2",
   "metadata": {},
   "outputs": [],
   "source": []
  },
  {
   "cell_type": "code",
   "execution_count": null,
   "id": "622a2b16",
   "metadata": {},
   "outputs": [],
   "source": []
  },
  {
   "cell_type": "code",
   "execution_count": null,
   "id": "0726b877",
   "metadata": {},
   "outputs": [],
   "source": []
  }
 ],
 "metadata": {
  "kernelspec": {
   "display_name": "Python 3 (ipykernel)",
   "language": "python",
   "name": "python3"
  },
  "language_info": {
   "codemirror_mode": {
    "name": "ipython",
    "version": 3
   },
   "file_extension": ".py",
   "mimetype": "text/x-python",
   "name": "python",
   "nbconvert_exporter": "python",
   "pygments_lexer": "ipython3",
   "version": "3.8.18"
  }
 },
 "nbformat": 4,
 "nbformat_minor": 5
}
