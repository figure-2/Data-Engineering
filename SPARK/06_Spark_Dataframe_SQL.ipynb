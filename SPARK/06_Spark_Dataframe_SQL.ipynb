{
 "cells": [
  {
   "cell_type": "code",
   "execution_count": 1,
   "id": "4e3b3f59",
   "metadata": {},
   "outputs": [
    {
     "name": "stderr",
     "output_type": "stream",
     "text": [
      "Using Spark's default log4j profile: org/apache/spark/log4j-defaults.properties\n",
      "Setting default log level to \"WARN\".\n",
      "To adjust logging level use sc.setLogLevel(newLevel). For SparkR, use setLogLevel(newLevel).\n",
      "23/11/16 09:22:18 WARN NativeCodeLoader: Unable to load native-hadoop library for your platform... using builtin-java classes where applicable\n"
     ]
    },
    {
     "data": {
      "text/html": [
       "\n",
       "        <div>\n",
       "            <p><b>SparkContext</b></p>\n",
       "\n",
       "            <p><a href=\"http://0.0.0.0:4040\">Spark UI</a></p>\n",
       "\n",
       "            <dl>\n",
       "              <dt>Version</dt>\n",
       "                <dd><code>v3.2.4</code></dd>\n",
       "              <dt>Master</dt>\n",
       "                <dd><code>local</code></dd>\n",
       "              <dt>AppName</dt>\n",
       "                <dd><code>spark_sql_basic</code></dd>\n",
       "            </dl>\n",
       "        </div>\n",
       "        "
      ],
      "text/plain": [
       "<SparkContext master=local appName=spark_sql_basic>"
      ]
     },
     "execution_count": 1,
     "metadata": {},
     "output_type": "execute_result"
    }
   ],
   "source": [
    "from pyspark import SparkConf, SparkContext\n",
    "conf = SparkConf().setMaster(\"local\").setAppName(\"spark_sql_basic\")\n",
    "sc = SparkContext(conf=conf)\n",
    "sc"
   ]
  },
  {
   "cell_type": "code",
   "execution_count": 2,
   "id": "f4c7c71f",
   "metadata": {},
   "outputs": [],
   "source": [
    "movies_rdd = sc.parallelize([\n",
    "    (1, (\"어벤져스\", \"마블\")),\n",
    "    (2, (\"슈퍼맨\", \"DC\")),\n",
    "    (3, (\"배트맨\", \"DC\")),\n",
    "    (4, (\"겨울왕국\", \"디즈니\")),\n",
    "    (5, (\"아이언맨\", \"마블\"))\n",
    "])\n",
    "\n",
    "attendances_rdd = sc.parallelize([\n",
    "    (1, (13934592, \"KR\")),\n",
    "    (2, (2182227,\"KR\")),\n",
    "    (3, (4226242, \"KR\")),\n",
    "    (4, (10303058, \"KR\")),\n",
    "    (5, (4300365, \"KR\"))\n",
    "])"
   ]
  },
  {
   "cell_type": "markdown",
   "id": "6f11a00f",
   "metadata": {},
   "source": [
    "마블 영화 중 관객수가 500만 이상인 영화 가져오기"
   ]
  },
  {
   "cell_type": "code",
   "execution_count": 5,
   "id": "e4883e71",
   "metadata": {},
   "outputs": [
    {
     "data": {
      "text/plain": [
       "[(1, (('어벤져스', '마블'), (13934592, 'KR')))]"
      ]
     },
     "execution_count": 5,
     "metadata": {},
     "output_type": "execute_result"
    }
   ],
   "source": [
    "# case 1 : join을 먼저 하고 Filter skwnddp\n",
    "\n",
    "movie_att_rdd = movies_rdd.join(attendances_rdd)\n",
    "movie_att_rdd.collect()\n",
    "#데이터가 2중 3중으로 들어가 있어서 문제이다  각각의 데이터의 인텍스가 1개이다 (아이디), (영화 회사, 관객수 개봉 나라명) \n",
    "#그래서 1번 인덱스의 0번을 가져와야한다\n",
    "\n",
    "# 마블만 가지고 오고 싶으면 filter를 한다\n",
    "movie_att_rdd.filter(lambda x: x[1][0][1] == '마블' and x[1][1][0] >=5000000).collect()"
   ]
  },
  {
   "cell_type": "code",
   "execution_count": 7,
   "id": "e20633ce",
   "metadata": {},
   "outputs": [
    {
     "data": {
      "text/plain": [
       "[(1, (('어벤져스', '마블'), (13934592, 'KR')))]"
      ]
     },
     "execution_count": 7,
     "metadata": {},
     "output_type": "execute_result"
    }
   ],
   "source": [
    "# CASE 2 : Filter 먼저, Join을 나중에\n",
    "\n",
    "filtered_movies = movies_rdd.filter(lambda x : x[1][1] == \"마블\")\n",
    "filtered_attendances = attendances_rdd.filter(lambda x : x[1][0] >= 5000000)\n",
    "\n",
    "filtered_movies.join(filtered_attendances).collect()"
   ]
  },
  {
   "cell_type": "markdown",
   "id": "1f489b8c",
   "metadata": {},
   "source": [
    "동일한 결과가 나오긴 하지만 filter를 먼저 수행해서 가져올 데이터를 걸러 낸 다음, join을 하는 CASE 2가 훨씬 효율적이다.\n",
    "\n",
    "매번 이런 고민을 하기엔 시간이 너무 아깝고 개발자 마다 성능 차이도 심하다."
   ]
  },
  {
   "cell_type": "code",
   "execution_count": 8,
   "id": "a29a108c",
   "metadata": {},
   "outputs": [],
   "source": [
    "sc.stop()"
   ]
  },
  {
   "cell_type": "markdown",
   "id": "185c85b1",
   "metadata": {},
   "source": [
    "# 1. SparkSession 생성하기\n",
    "- `SparkContext`에 해당하며, 새로운 스파크 어플리케이션을 만들어준다."
   ]
  },
  {
   "cell_type": "code",
   "execution_count": 29,
   "id": "7c1fa9d6",
   "metadata": {},
   "outputs": [
    {
     "data": {
      "text/html": [
       "\n",
       "            <div>\n",
       "                <p><b>SparkSession - in-memory</b></p>\n",
       "                \n",
       "        <div>\n",
       "            <p><b>SparkContext</b></p>\n",
       "\n",
       "            <p><a href=\"http://0.0.0.0:4040\">Spark UI</a></p>\n",
       "\n",
       "            <dl>\n",
       "              <dt>Version</dt>\n",
       "                <dd><code>v3.2.4</code></dd>\n",
       "              <dt>Master</dt>\n",
       "                <dd><code>local</code></dd>\n",
       "              <dt>AppName</dt>\n",
       "                <dd><code>spark-sql</code></dd>\n",
       "            </dl>\n",
       "        </div>\n",
       "        \n",
       "            </div>\n",
       "        "
      ],
      "text/plain": [
       "<pyspark.sql.session.SparkSession at 0x7f6a303763d0>"
      ]
     },
     "execution_count": 29,
     "metadata": {},
     "output_type": "execute_result"
    }
   ],
   "source": [
    "from pyspark.sql import SparkSession\n",
    "\n",
    "spark = SparkSession.builder.master(\"local\").appName(\"spark-sql\").getOrCreate()\n",
    "spark"
   ]
  },
  {
   "cell_type": "code",
   "execution_count": 30,
   "id": "61de262f",
   "metadata": {},
   "outputs": [],
   "source": [
    "movies = [\n",
    "    (1, \"어벤져스\", \"마블\", 2012, 4, 26),\n",
    "    (2, \"슈퍼맨\", \"DC\", 2013, 6, 13),\n",
    "    (3, \"배트맨\", \"DC\", 2008, 8, 6),\n",
    "    (4, \"겨울왕국\", \"디즈니\", 2014, 1, 16),\n",
    "    (5, \"아이언맨\", \"마블\", 2008, 4, 30)\n",
    "]"
   ]
  },
  {
   "cell_type": "code",
   "execution_count": 31,
   "id": "198968cc",
   "metadata": {},
   "outputs": [],
   "source": [
    "movie_schema = [\"id\", \"name\", \"company\", \"year\", \"month\", \"day\"]"
   ]
  },
  {
   "cell_type": "markdown",
   "id": "5eddfee5",
   "metadata": {},
   "source": [
    "2. 데이터 프레임 생성"
   ]
  },
  {
   "cell_type": "code",
   "execution_count": 32,
   "id": "526d754e",
   "metadata": {},
   "outputs": [
    {
     "data": {
      "text/plain": [
       "DataFrame[id: bigint, name: string, company: string, year: bigint, month: bigint, day: bigint]"
      ]
     },
     "execution_count": 32,
     "metadata": {},
     "output_type": "execute_result"
    }
   ],
   "source": [
    "movie_sdf = spark.createDataFrame(data = movies, schema = movie_schema)\n",
    "movie_sdf"
   ]
  },
  {
   "cell_type": "code",
   "execution_count": 33,
   "id": "1bfe9a9d",
   "metadata": {},
   "outputs": [
    {
     "data": {
      "text/plain": [
       "[('id', 'bigint'),\n",
       " ('name', 'string'),\n",
       " ('company', 'string'),\n",
       " ('year', 'bigint'),\n",
       " ('month', 'bigint'),\n",
       " ('day', 'bigint')]"
      ]
     },
     "execution_count": 33,
     "metadata": {},
     "output_type": "execute_result"
    }
   ],
   "source": [
    "# 스키마 정보 확인\n",
    "movie_sdf.dtypes"
   ]
  },
  {
   "cell_type": "code",
   "execution_count": 34,
   "id": "e24df0f3",
   "metadata": {},
   "outputs": [
    {
     "name": "stdout",
     "output_type": "stream",
     "text": [
      "+---+--------+-------+----+-----+---+\n",
      "| id|    name|company|year|month|day|\n",
      "+---+--------+-------+----+-----+---+\n",
      "|  1|어벤져스|   마블|2012|    4| 26|\n",
      "|  2|  슈퍼맨|     DC|2013|    6| 13|\n",
      "|  3|  배트맨|     DC|2008|    8|  6|\n",
      "|  4|겨울왕국| 디즈니|2014|    1| 16|\n",
      "|  5|아이언맨|   마블|2008|    4| 30|\n",
      "+---+--------+-------+----+-----+---+\n",
      "\n"
     ]
    }
   ],
   "source": [
    "movie_sdf.show()"
   ]
  },
  {
   "cell_type": "markdown",
   "id": "6cb935db",
   "metadata": {},
   "source": [
    "# 3. SparkSQL 사용하기\n",
    "- 데이터 프레임을 임시 뷰로 등록을 해야 사용할 수 있다\n",
    "- createOrReplaceTempView 함수를 이용해서 DataFrame에 SQL을 사용 할 수 있는 View를 만들어준다"
   ]
  },
  {
   "cell_type": "code",
   "execution_count": 40,
   "id": "b08254a8",
   "metadata": {},
   "outputs": [],
   "source": [
    "movie_sdf.createOrReplaceTempView('movies')"
   ]
  },
  {
   "cell_type": "code",
   "execution_count": 41,
   "id": "a3eea801",
   "metadata": {},
   "outputs": [
    {
     "name": "stdout",
     "output_type": "stream",
     "text": [
      "+--------+----+\n",
      "|    name|year|\n",
      "+--------+----+\n",
      "|어벤져스|2012|\n",
      "|  슈퍼맨|2013|\n",
      "|  배트맨|2008|\n",
      "|겨울왕국|2014|\n",
      "|아이언맨|2008|\n",
      "+--------+----+\n",
      "\n"
     ]
    }
   ],
   "source": [
    "# 영화 이름, 개봉 연도 가져오기\n",
    "query ='''\n",
    "    SELECT name, year\n",
    "    FROM movies\n",
    "'''\n",
    "\n",
    "spark.sql(query).show()"
   ]
  },
  {
   "cell_type": "code",
   "execution_count": 42,
   "id": "8fe102c9",
   "metadata": {},
   "outputs": [
    {
     "name": "stdout",
     "output_type": "stream",
     "text": [
      "+--------+----+\n",
      "|    name|year|\n",
      "+--------+----+\n",
      "|어벤져스|2012|\n",
      "|  슈퍼맨|2013|\n",
      "|  배트맨|2008|\n",
      "|겨울왕국|2014|\n",
      "|아이언맨|2008|\n",
      "+--------+----+\n",
      "\n"
     ]
    }
   ],
   "source": [
    "# 영화 이름, 개봉 연도 가져오기\n",
    "query = '''\n",
    "    SELECT name, year\n",
    "    FROM movies\n",
    "'''\n",
    "\n",
    "spark.sql(query).show()\n"
   ]
  },
  {
   "cell_type": "code",
   "execution_count": 43,
   "id": "0f93a94f",
   "metadata": {},
   "outputs": [
    {
     "name": "stdout",
     "output_type": "stream",
     "text": [
      "+---+--------+-------+----+-----+---+\n",
      "| id|    name|company|year|month|day|\n",
      "+---+--------+-------+----+-----+---+\n",
      "|  1|어벤져스|   마블|2012|    4| 26|\n",
      "|  2|  슈퍼맨|     DC|2013|    6| 13|\n",
      "|  4|겨울왕국| 디즈니|2014|    1| 16|\n",
      "+---+--------+-------+----+-----+---+\n",
      "\n"
     ]
    }
   ],
   "source": [
    "# 2010년도 이후에 개봉한 영화의 모든 정보\n",
    "query = \"\"\"\n",
    "    SELECT *\n",
    "    FROM movies\n",
    "    WHERE year > 2010\n",
    "\"\"\"\n",
    "\n",
    "spark.sql(query).show()"
   ]
  },
  {
   "cell_type": "code",
   "execution_count": 44,
   "id": "3c3f07d9",
   "metadata": {},
   "outputs": [
    {
     "name": "stdout",
     "output_type": "stream",
     "text": [
      "+---+--------+-------+----+-----+---+\n",
      "| id|    name|company|year|month|day|\n",
      "+---+--------+-------+----+-----+---+\n",
      "|  1|어벤져스|   마블|2012|    4| 26|\n",
      "+---+--------+-------+----+-----+---+\n",
      "\n"
     ]
    }
   ],
   "source": [
    "# 2010년도 이후에 개봉한 마블 영화의 모든 정보\n",
    "query = \"\"\"\n",
    "    SELECT *\n",
    "    FROM movies\n",
    "    WHERE year > 2010\n",
    "      AND company = '마블'\n",
    "\"\"\"\n",
    "\n",
    "spark.sql(query).show()"
   ]
  },
  {
   "cell_type": "code",
   "execution_count": 45,
   "id": "23f0fa06",
   "metadata": {},
   "outputs": [
    {
     "name": "stdout",
     "output_type": "stream",
     "text": [
      "+---+--------+-------+----+-----+---+\n",
      "| id|    name|company|year|month|day|\n",
      "+---+--------+-------+----+-----+---+\n",
      "|  2|  슈퍼맨|     DC|2013|    6| 13|\n",
      "|  3|  배트맨|     DC|2008|    8|  6|\n",
      "|  5|아이언맨|   마블|2008|    4| 30|\n",
      "+---+--------+-------+----+-----+---+\n",
      "\n"
     ]
    }
   ],
   "source": [
    "# ~맨으로 끝나는 영화의 모든 정보\n",
    "query = \"\"\"\n",
    "    SELECT *\n",
    "    FROM movies\n",
    "    WHERE name like \"%맨\"\n",
    "\"\"\"\n",
    "\n",
    "spark.sql(query).show()"
   ]
  },
  {
   "cell_type": "code",
   "execution_count": 46,
   "id": "1d4ba4da",
   "metadata": {},
   "outputs": [
    {
     "name": "stdout",
     "output_type": "stream",
     "text": [
      "+---+--------+-------+----+-----+---+\n",
      "| id|    name|company|year|month|day|\n",
      "+---+--------+-------+----+-----+---+\n",
      "|  1|어벤져스|   마블|2012|    4| 26|\n",
      "+---+--------+-------+----+-----+---+\n",
      "\n"
     ]
    }
   ],
   "source": [
    "# id가 3번인 영화보다 늦게 개봉한 마블영화의 모든 정보(연도만 고려)\n",
    "query = \"\"\"\n",
    "    SELECT *\n",
    "    FROM movies\n",
    "    WHERE company='마블'\n",
    "      AND year > ( SELECT year FROM movies WHERE id=3)\n",
    "\"\"\"\n",
    "\n",
    "spark.sql(query).show()"
   ]
  },
  {
   "cell_type": "markdown",
   "id": "60c47e34",
   "metadata": {},
   "source": [
    "# join 구현"
   ]
  },
  {
   "cell_type": "code",
   "execution_count": 47,
   "id": "0b26b917",
   "metadata": {},
   "outputs": [],
   "source": [
    "attendances = [\n",
    "    (1, 13934592., \"KR\"),\n",
    "    (2, 2182227.,\"KR\"),\n",
    "    (3, 4226242., \"KR\"),\n",
    "    (4, 10303058., \"KR\"),\n",
    "    (5, 4300365., \"KR\")\n",
    "]"
   ]
  },
  {
   "cell_type": "code",
   "execution_count": 49,
   "id": "c53032cd",
   "metadata": {},
   "outputs": [],
   "source": [
    "# 자료형 타입 불러오기\n",
    "from pyspark.sql.types import StringType, FloatType, IntegerType\n",
    "\n",
    "# 구조를 만들기 위한 타입 불러오기 (필수), 컬럼 순서 등\n",
    "from pyspark.sql.types import StructField, StructType"
   ]
  },
  {
   "cell_type": "code",
   "execution_count": 56,
   "id": "8af31deb",
   "metadata": {},
   "outputs": [],
   "source": [
    "# 리스트를 통해서 컬럼의 순서를 정리해준다// 리스트안에 StructField를 정의해준다\n",
    "att_schema = StructType([\n",
    "    StructField('id', IntegerType(), True), # 맨 앞에는 컬럼 이름, 타입, True(null을 허용하지 않겠다는것)\n",
    "    StructField('attendance', FloatType(), True),\n",
    "    StructField('country', StringType(), True)\n",
    "])"
   ]
  },
  {
   "cell_type": "code",
   "execution_count": 58,
   "id": "42d0761d",
   "metadata": {},
   "outputs": [
    {
     "data": {
      "text/plain": [
       "DataFrame[id: int, attendance: float, country: string]"
      ]
     },
     "execution_count": 58,
     "metadata": {},
     "output_type": "execute_result"
    }
   ],
   "source": [
    "att_df = spark.createDataFrame(data = attendances, schema = att_schema)\n",
    "att_df"
   ]
  },
  {
   "cell_type": "code",
   "execution_count": 59,
   "id": "570ae9da",
   "metadata": {},
   "outputs": [],
   "source": [
    "att_df.createOrReplaceTempView('att')"
   ]
  },
  {
   "cell_type": "code",
   "execution_count": 60,
   "id": "330cd814",
   "metadata": {},
   "outputs": [
    {
     "name": "stdout",
     "output_type": "stream",
     "text": [
      "+---+--------+-------+----+-----+---+---+-----------+-------+\n",
      "| id|    name|company|year|month|day| id| attendance|country|\n",
      "+---+--------+-------+----+-----+---+---+-----------+-------+\n",
      "|  1|어벤져스|   마블|2012|    4| 26|  1|1.3934592E7|     KR|\n",
      "|  2|  슈퍼맨|     DC|2013|    6| 13|  2|  2182227.0|     KR|\n",
      "|  3|  배트맨|     DC|2008|    8|  6|  3|  4226242.0|     KR|\n",
      "|  4|겨울왕국| 디즈니|2014|    1| 16|  4|1.0303058E7|     KR|\n",
      "|  5|아이언맨|   마블|2008|    4| 30|  5|  4300365.0|     KR|\n",
      "+---+--------+-------+----+-----+---+---+-----------+-------+\n",
      "\n"
     ]
    }
   ],
   "source": [
    "# movies , att id를 기반으로 JOIN\n",
    "query = \"\"\"\n",
    "SELECT *\n",
    "FROM movies\n",
    "JOIN att ON movies.id = att.id\n",
    "ORDER BY movies.id ASC\n",
    "\"\"\"\n",
    "\n",
    "spark.sql(query).show()"
   ]
  },
  {
   "cell_type": "code",
   "execution_count": 61,
   "id": "2634cfa1",
   "metadata": {},
   "outputs": [],
   "source": [
    "spark.stop()"
   ]
  },
  {
   "cell_type": "code",
   "execution_count": null,
   "id": "b30b5441",
   "metadata": {},
   "outputs": [],
   "source": []
  }
 ],
 "metadata": {
  "kernelspec": {
   "display_name": "Python 3 (ipykernel)",
   "language": "python",
   "name": "python3"
  },
  "language_info": {
   "codemirror_mode": {
    "name": "ipython",
    "version": 3
   },
   "file_extension": ".py",
   "mimetype": "text/x-python",
   "name": "python",
   "nbconvert_exporter": "python",
   "pygments_lexer": "ipython3",
   "version": "3.8.18"
  }
 },
 "nbformat": 4,
 "nbformat_minor": 5
}
