{
 "cells": [
  {
   "cell_type": "code",
   "execution_count": 1,
   "id": "abb8854d",
   "metadata": {},
   "outputs": [
    {
     "name": "stderr",
     "output_type": "stream",
     "text": [
      "Using Spark's default log4j profile: org/apache/spark/log4j-defaults.properties\n",
      "Setting default log level to \"WARN\".\n",
      "To adjust logging level use sc.setLogLevel(newLevel). For SparkR, use setLogLevel(newLevel).\n",
      "23/11/16 14:21:36 WARN NativeCodeLoader: Unable to load native-hadoop library for your platform... using builtin-java classes where applicable\n",
      "23/11/16 14:21:38 WARN Utils: Service 'SparkUI' could not bind on port 4040. Attempting port 4041.\n"
     ]
    },
    {
     "data": {
      "text/html": [
       "\n",
       "            <div>\n",
       "                <p><b>SparkSession - in-memory</b></p>\n",
       "                \n",
       "        <div>\n",
       "            <p><b>SparkContext</b></p>\n",
       "\n",
       "            <p><a href=\"http://0.0.0.0:4041\">Spark UI</a></p>\n",
       "\n",
       "            <dl>\n",
       "              <dt>Version</dt>\n",
       "                <dd><code>v3.2.4</code></dd>\n",
       "              <dt>Master</dt>\n",
       "                <dd><code>local</code></dd>\n",
       "              <dt>AppName</dt>\n",
       "                <dd><code>spark-dataframe</code></dd>\n",
       "            </dl>\n",
       "        </div>\n",
       "        \n",
       "            </div>\n",
       "        "
      ],
      "text/plain": [
       "<pyspark.sql.session.SparkSession at 0x7f42610cabb0>"
      ]
     },
     "execution_count": 1,
     "metadata": {},
     "output_type": "execute_result"
    }
   ],
   "source": [
    "from pyspark.sql import SparkSession\n",
    "\n",
    "spark = SparkSession.builder.master(\"local\").appName(\"spark-dataframe\").getOrCreate()\n",
    "spark"
   ]
  },
  {
   "cell_type": "code",
   "execution_count": 2,
   "id": "fbaf042f",
   "metadata": {},
   "outputs": [
    {
     "name": "stderr",
     "output_type": "stream",
     "text": [
      "                                                                                \r"
     ]
    },
    {
     "data": {
      "text/plain": [
       "[('PassengerId', 'int'),\n",
       " ('Survived', 'int'),\n",
       " ('Pclass', 'int'),\n",
       " ('Name', 'string'),\n",
       " ('Sex', 'string'),\n",
       " ('Age', 'double'),\n",
       " ('SibSp', 'int'),\n",
       " ('Parch', 'int'),\n",
       " ('Ticket', 'string'),\n",
       " ('Fare', 'double'),\n",
       " ('Cabin', 'string'),\n",
       " ('Embarked', 'string')]"
      ]
     },
     "execution_count": 2,
     "metadata": {},
     "output_type": "execute_result"
    }
   ],
   "source": [
    "filepath = \"/home/ubuntu/working/spark-examples/data/titanic_train.csv\"\n",
    "\n",
    "# inferSchema 사용\n",
    "titanic_sdf = spark.read.csv(filepath, inferSchema=True, header=True)\n",
    "titanic_sdf.dtypes"
   ]
  },
  {
   "cell_type": "code",
   "execution_count": 3,
   "id": "85e6a1a7",
   "metadata": {},
   "outputs": [],
   "source": [
    "import pandas as pd\n",
    "\n",
    "titanic_pdf = pd.read_csv(filepath)"
   ]
  },
  {
   "cell_type": "markdown",
   "id": "18b20b39",
   "metadata": {},
   "source": [
    "# Order By"
   ]
  },
  {
   "cell_type": "code",
   "execution_count": 5,
   "id": "6a72243a",
   "metadata": {},
   "outputs": [
    {
     "data": {
      "text/html": [
       "<div>\n",
       "<style scoped>\n",
       "    .dataframe tbody tr th:only-of-type {\n",
       "        vertical-align: middle;\n",
       "    }\n",
       "\n",
       "    .dataframe tbody tr th {\n",
       "        vertical-align: top;\n",
       "    }\n",
       "\n",
       "    .dataframe thead th {\n",
       "        text-align: right;\n",
       "    }\n",
       "</style>\n",
       "<table border=\"1\" class=\"dataframe\">\n",
       "  <thead>\n",
       "    <tr style=\"text-align: right;\">\n",
       "      <th></th>\n",
       "      <th>PassengerId</th>\n",
       "      <th>Survived</th>\n",
       "      <th>Pclass</th>\n",
       "      <th>Name</th>\n",
       "      <th>Sex</th>\n",
       "      <th>Age</th>\n",
       "      <th>SibSp</th>\n",
       "      <th>Parch</th>\n",
       "      <th>Ticket</th>\n",
       "      <th>Fare</th>\n",
       "      <th>Cabin</th>\n",
       "      <th>Embarked</th>\n",
       "    </tr>\n",
       "  </thead>\n",
       "  <tbody>\n",
       "    <tr>\n",
       "      <th>845</th>\n",
       "      <td>846</td>\n",
       "      <td>0</td>\n",
       "      <td>3</td>\n",
       "      <td>Abbing, Mr. Anthony</td>\n",
       "      <td>male</td>\n",
       "      <td>42.0</td>\n",
       "      <td>0</td>\n",
       "      <td>0</td>\n",
       "      <td>C.A. 5547</td>\n",
       "      <td>7.55</td>\n",
       "      <td>NaN</td>\n",
       "      <td>S</td>\n",
       "    </tr>\n",
       "    <tr>\n",
       "      <th>746</th>\n",
       "      <td>747</td>\n",
       "      <td>0</td>\n",
       "      <td>3</td>\n",
       "      <td>Abbott, Mr. Rossmore Edward</td>\n",
       "      <td>male</td>\n",
       "      <td>16.0</td>\n",
       "      <td>1</td>\n",
       "      <td>1</td>\n",
       "      <td>C.A. 2673</td>\n",
       "      <td>20.25</td>\n",
       "      <td>NaN</td>\n",
       "      <td>S</td>\n",
       "    </tr>\n",
       "    <tr>\n",
       "      <th>279</th>\n",
       "      <td>280</td>\n",
       "      <td>1</td>\n",
       "      <td>3</td>\n",
       "      <td>Abbott, Mrs. Stanton (Rosa Hunt)</td>\n",
       "      <td>female</td>\n",
       "      <td>35.0</td>\n",
       "      <td>1</td>\n",
       "      <td>1</td>\n",
       "      <td>C.A. 2673</td>\n",
       "      <td>20.25</td>\n",
       "      <td>NaN</td>\n",
       "      <td>S</td>\n",
       "    </tr>\n",
       "    <tr>\n",
       "      <th>308</th>\n",
       "      <td>309</td>\n",
       "      <td>0</td>\n",
       "      <td>2</td>\n",
       "      <td>Abelson, Mr. Samuel</td>\n",
       "      <td>male</td>\n",
       "      <td>30.0</td>\n",
       "      <td>1</td>\n",
       "      <td>0</td>\n",
       "      <td>P/PP 3381</td>\n",
       "      <td>24.00</td>\n",
       "      <td>NaN</td>\n",
       "      <td>C</td>\n",
       "    </tr>\n",
       "    <tr>\n",
       "      <th>874</th>\n",
       "      <td>875</td>\n",
       "      <td>1</td>\n",
       "      <td>2</td>\n",
       "      <td>Abelson, Mrs. Samuel (Hannah Wizosky)</td>\n",
       "      <td>female</td>\n",
       "      <td>28.0</td>\n",
       "      <td>1</td>\n",
       "      <td>0</td>\n",
       "      <td>P/PP 3381</td>\n",
       "      <td>24.00</td>\n",
       "      <td>NaN</td>\n",
       "      <td>C</td>\n",
       "    </tr>\n",
       "  </tbody>\n",
       "</table>\n",
       "</div>"
      ],
      "text/plain": [
       "     PassengerId  Survived  Pclass                                   Name  \\\n",
       "845          846         0       3                    Abbing, Mr. Anthony   \n",
       "746          747         0       3            Abbott, Mr. Rossmore Edward   \n",
       "279          280         1       3       Abbott, Mrs. Stanton (Rosa Hunt)   \n",
       "308          309         0       2                    Abelson, Mr. Samuel   \n",
       "874          875         1       2  Abelson, Mrs. Samuel (Hannah Wizosky)   \n",
       "\n",
       "        Sex   Age  SibSp  Parch     Ticket   Fare Cabin Embarked  \n",
       "845    male  42.0      0      0  C.A. 5547   7.55   NaN        S  \n",
       "746    male  16.0      1      1  C.A. 2673  20.25   NaN        S  \n",
       "279  female  35.0      1      1  C.A. 2673  20.25   NaN        S  \n",
       "308    male  30.0      1      0  P/PP 3381  24.00   NaN        C  \n",
       "874  female  28.0      1      0  P/PP 3381  24.00   NaN        C  "
      ]
     },
     "execution_count": 5,
     "metadata": {},
     "output_type": "execute_result"
    }
   ],
   "source": [
    "# Pandas에서는 sort_values\n",
    "titanic_pdf.sort_values(by=\"Name\", ascending=True).head()"
   ]
  },
  {
   "cell_type": "code",
   "execution_count": 6,
   "id": "59bbfb79",
   "metadata": {},
   "outputs": [
    {
     "data": {
      "text/html": [
       "<div>\n",
       "<style scoped>\n",
       "    .dataframe tbody tr th:only-of-type {\n",
       "        vertical-align: middle;\n",
       "    }\n",
       "\n",
       "    .dataframe tbody tr th {\n",
       "        vertical-align: top;\n",
       "    }\n",
       "\n",
       "    .dataframe thead th {\n",
       "        text-align: right;\n",
       "    }\n",
       "</style>\n",
       "<table border=\"1\" class=\"dataframe\">\n",
       "  <thead>\n",
       "    <tr style=\"text-align: right;\">\n",
       "      <th></th>\n",
       "      <th>PassengerId</th>\n",
       "      <th>Survived</th>\n",
       "      <th>Pclass</th>\n",
       "      <th>Name</th>\n",
       "      <th>Sex</th>\n",
       "      <th>Age</th>\n",
       "      <th>SibSp</th>\n",
       "      <th>Parch</th>\n",
       "      <th>Ticket</th>\n",
       "      <th>Fare</th>\n",
       "      <th>Cabin</th>\n",
       "      <th>Embarked</th>\n",
       "    </tr>\n",
       "  </thead>\n",
       "  <tbody>\n",
       "    <tr>\n",
       "      <th>630</th>\n",
       "      <td>631</td>\n",
       "      <td>1</td>\n",
       "      <td>1</td>\n",
       "      <td>Barkworth, Mr. Algernon Henry Wilson</td>\n",
       "      <td>male</td>\n",
       "      <td>80.0</td>\n",
       "      <td>0</td>\n",
       "      <td>0</td>\n",
       "      <td>27042</td>\n",
       "      <td>30.0000</td>\n",
       "      <td>A23</td>\n",
       "      <td>S</td>\n",
       "    </tr>\n",
       "    <tr>\n",
       "      <th>96</th>\n",
       "      <td>97</td>\n",
       "      <td>0</td>\n",
       "      <td>1</td>\n",
       "      <td>Goldschmidt, Mr. George B</td>\n",
       "      <td>male</td>\n",
       "      <td>71.0</td>\n",
       "      <td>0</td>\n",
       "      <td>0</td>\n",
       "      <td>PC 17754</td>\n",
       "      <td>34.6542</td>\n",
       "      <td>A5</td>\n",
       "      <td>C</td>\n",
       "    </tr>\n",
       "    <tr>\n",
       "      <th>493</th>\n",
       "      <td>494</td>\n",
       "      <td>0</td>\n",
       "      <td>1</td>\n",
       "      <td>Artagaveytia, Mr. Ramon</td>\n",
       "      <td>male</td>\n",
       "      <td>71.0</td>\n",
       "      <td>0</td>\n",
       "      <td>0</td>\n",
       "      <td>PC 17609</td>\n",
       "      <td>49.5042</td>\n",
       "      <td>NaN</td>\n",
       "      <td>C</td>\n",
       "    </tr>\n",
       "    <tr>\n",
       "      <th>745</th>\n",
       "      <td>746</td>\n",
       "      <td>0</td>\n",
       "      <td>1</td>\n",
       "      <td>Crosby, Capt. Edward Gifford</td>\n",
       "      <td>male</td>\n",
       "      <td>70.0</td>\n",
       "      <td>1</td>\n",
       "      <td>1</td>\n",
       "      <td>WE/P 5735</td>\n",
       "      <td>71.0000</td>\n",
       "      <td>B22</td>\n",
       "      <td>S</td>\n",
       "    </tr>\n",
       "    <tr>\n",
       "      <th>54</th>\n",
       "      <td>55</td>\n",
       "      <td>0</td>\n",
       "      <td>1</td>\n",
       "      <td>Ostby, Mr. Engelhart Cornelius</td>\n",
       "      <td>male</td>\n",
       "      <td>65.0</td>\n",
       "      <td>0</td>\n",
       "      <td>1</td>\n",
       "      <td>113509</td>\n",
       "      <td>61.9792</td>\n",
       "      <td>B30</td>\n",
       "      <td>C</td>\n",
       "    </tr>\n",
       "    <tr>\n",
       "      <th>...</th>\n",
       "      <td>...</td>\n",
       "      <td>...</td>\n",
       "      <td>...</td>\n",
       "      <td>...</td>\n",
       "      <td>...</td>\n",
       "      <td>...</td>\n",
       "      <td>...</td>\n",
       "      <td>...</td>\n",
       "      <td>...</td>\n",
       "      <td>...</td>\n",
       "      <td>...</td>\n",
       "      <td>...</td>\n",
       "    </tr>\n",
       "    <tr>\n",
       "      <th>859</th>\n",
       "      <td>860</td>\n",
       "      <td>0</td>\n",
       "      <td>3</td>\n",
       "      <td>Razi, Mr. Raihed</td>\n",
       "      <td>male</td>\n",
       "      <td>NaN</td>\n",
       "      <td>0</td>\n",
       "      <td>0</td>\n",
       "      <td>2629</td>\n",
       "      <td>7.2292</td>\n",
       "      <td>NaN</td>\n",
       "      <td>C</td>\n",
       "    </tr>\n",
       "    <tr>\n",
       "      <th>863</th>\n",
       "      <td>864</td>\n",
       "      <td>0</td>\n",
       "      <td>3</td>\n",
       "      <td>Sage, Miss. Dorothy Edith \"Dolly\"</td>\n",
       "      <td>female</td>\n",
       "      <td>NaN</td>\n",
       "      <td>8</td>\n",
       "      <td>2</td>\n",
       "      <td>CA. 2343</td>\n",
       "      <td>69.5500</td>\n",
       "      <td>NaN</td>\n",
       "      <td>S</td>\n",
       "    </tr>\n",
       "    <tr>\n",
       "      <th>868</th>\n",
       "      <td>869</td>\n",
       "      <td>0</td>\n",
       "      <td>3</td>\n",
       "      <td>van Melkebeke, Mr. Philemon</td>\n",
       "      <td>male</td>\n",
       "      <td>NaN</td>\n",
       "      <td>0</td>\n",
       "      <td>0</td>\n",
       "      <td>345777</td>\n",
       "      <td>9.5000</td>\n",
       "      <td>NaN</td>\n",
       "      <td>S</td>\n",
       "    </tr>\n",
       "    <tr>\n",
       "      <th>878</th>\n",
       "      <td>879</td>\n",
       "      <td>0</td>\n",
       "      <td>3</td>\n",
       "      <td>Laleff, Mr. Kristo</td>\n",
       "      <td>male</td>\n",
       "      <td>NaN</td>\n",
       "      <td>0</td>\n",
       "      <td>0</td>\n",
       "      <td>349217</td>\n",
       "      <td>7.8958</td>\n",
       "      <td>NaN</td>\n",
       "      <td>S</td>\n",
       "    </tr>\n",
       "    <tr>\n",
       "      <th>888</th>\n",
       "      <td>889</td>\n",
       "      <td>0</td>\n",
       "      <td>3</td>\n",
       "      <td>Johnston, Miss. Catherine Helen \"Carrie\"</td>\n",
       "      <td>female</td>\n",
       "      <td>NaN</td>\n",
       "      <td>1</td>\n",
       "      <td>2</td>\n",
       "      <td>W./C. 6607</td>\n",
       "      <td>23.4500</td>\n",
       "      <td>NaN</td>\n",
       "      <td>S</td>\n",
       "    </tr>\n",
       "  </tbody>\n",
       "</table>\n",
       "<p>891 rows × 12 columns</p>\n",
       "</div>"
      ],
      "text/plain": [
       "     PassengerId  Survived  Pclass                                      Name  \\\n",
       "630          631         1       1      Barkworth, Mr. Algernon Henry Wilson   \n",
       "96            97         0       1                 Goldschmidt, Mr. George B   \n",
       "493          494         0       1                   Artagaveytia, Mr. Ramon   \n",
       "745          746         0       1              Crosby, Capt. Edward Gifford   \n",
       "54            55         0       1            Ostby, Mr. Engelhart Cornelius   \n",
       "..           ...       ...     ...                                       ...   \n",
       "859          860         0       3                          Razi, Mr. Raihed   \n",
       "863          864         0       3         Sage, Miss. Dorothy Edith \"Dolly\"   \n",
       "868          869         0       3               van Melkebeke, Mr. Philemon   \n",
       "878          879         0       3                        Laleff, Mr. Kristo   \n",
       "888          889         0       3  Johnston, Miss. Catherine Helen \"Carrie\"   \n",
       "\n",
       "        Sex   Age  SibSp  Parch      Ticket     Fare Cabin Embarked  \n",
       "630    male  80.0      0      0       27042  30.0000   A23        S  \n",
       "96     male  71.0      0      0    PC 17754  34.6542    A5        C  \n",
       "493    male  71.0      0      0    PC 17609  49.5042   NaN        C  \n",
       "745    male  70.0      1      1   WE/P 5735  71.0000   B22        S  \n",
       "54     male  65.0      0      1      113509  61.9792   B30        C  \n",
       "..      ...   ...    ...    ...         ...      ...   ...      ...  \n",
       "859    male   NaN      0      0        2629   7.2292   NaN        C  \n",
       "863  female   NaN      8      2    CA. 2343  69.5500   NaN        S  \n",
       "868    male   NaN      0      0      345777   9.5000   NaN        S  \n",
       "878    male   NaN      0      0      349217   7.8958   NaN        S  \n",
       "888  female   NaN      1      2  W./C. 6607  23.4500   NaN        S  \n",
       "\n",
       "[891 rows x 12 columns]"
      ]
     },
     "execution_count": 6,
     "metadata": {},
     "output_type": "execute_result"
    }
   ],
   "source": [
    "# Pclass 오름차순, Age 내림차순\n",
    "\n",
    "titanic_pdf.sort_values(\n",
    "    by=['Pclass', 'Age'],\n",
    "    ascending=[True, False]\n",
    ")"
   ]
  },
  {
   "cell_type": "code",
   "execution_count": 7,
   "id": "c42a021f",
   "metadata": {},
   "outputs": [
    {
     "name": "stdout",
     "output_type": "stream",
     "text": [
      "+-----------+--------+------+--------------------+------+----+-----+-----+----------------+-------+-----+--------+\n",
      "|PassengerId|Survived|Pclass|                Name|   Sex| Age|SibSp|Parch|          Ticket|   Fare|Cabin|Embarked|\n",
      "+-----------+--------+------+--------------------+------+----+-----+-----+----------------+-------+-----+--------+\n",
      "|         25|       0|     3|Palsson, Miss. To...|female| 8.0|    3|    1|          349909| 21.075| null|       S|\n",
      "|         47|       0|     3|   Lennon, Mr. Denis|  male|null|    1|    0|          370371|   15.5| null|       Q|\n",
      "|         26|       1|     3|Asplund, Mrs. Car...|female|38.0|    1|    5|          347077|31.3875| null|       S|\n",
      "|          3|       1|     3|Heikkinen, Miss. ...|female|26.0|    0|    0|STON/O2. 3101282|  7.925| null|       S|\n",
      "|         27|       0|     3|Emir, Mr. Farred ...|  male|null|    0|    0|            2631|  7.225| null|       C|\n",
      "|          6|       0|     3|    Moran, Mr. James|  male|null|    0|    0|          330877| 8.4583| null|       Q|\n",
      "|         29|       1|     3|\"O'Dwyer, Miss. E...|female|null|    0|    0|          330959| 7.8792| null|       Q|\n",
      "|          9|       1|     3|Johnson, Mrs. Osc...|female|27.0|    0|    2|          347742|11.1333| null|       S|\n",
      "|         30|       0|     3| Todoroff, Mr. Lalio|  male|null|    0|    0|          349216| 7.8958| null|       S|\n",
      "|         13|       0|     3|Saundercock, Mr. ...|  male|20.0|    0|    0|       A/5. 2151|   8.05| null|       S|\n",
      "|         33|       1|     3|Glynn, Miss. Mary...|female|null|    0|    0|          335677|   7.75| null|       Q|\n",
      "|         15|       0|     3|Vestrom, Miss. Hu...|female|14.0|    0|    0|          350406| 7.8542| null|       S|\n",
      "|         37|       1|     3|    Mamee, Mr. Hanna|  male|null|    0|    0|            2677| 7.2292| null|       C|\n",
      "|         19|       0|     3|Vander Planke, Mr...|female|31.0|    1|    0|          345763|   18.0| null|       S|\n",
      "|         38|       0|     3|Cann, Mr. Ernest ...|  male|21.0|    0|    0|      A./5. 2152|   8.05| null|       S|\n",
      "|         48|       1|     3|O'Driscoll, Miss....|female|null|    0|    0|           14311|   7.75| null|       Q|\n",
      "|         39|       0|     3|Vander Planke, Mi...|female|18.0|    2|    0|          345764|   18.0| null|       S|\n",
      "|          1|       0|     3|Braund, Mr. Owen ...|  male|22.0|    1|    0|       A/5 21171|   7.25| null|       S|\n",
      "|         40|       1|     3|Nicola-Yarred, Mi...|female|14.0|    1|    0|            2651|11.2417| null|       C|\n",
      "|          8|       0|     3|Palsson, Master. ...|  male| 2.0|    3|    1|          349909| 21.075| null|       S|\n",
      "+-----------+--------+------+--------------------+------+----+-----+-----+----------------+-------+-----+--------+\n",
      "only showing top 20 rows\n",
      "\n"
     ]
    }
   ],
   "source": [
    "import pyspark.sql.functions as F\n",
    "\n",
    "titanic_sdf.orderBy(\n",
    "    F.col('Pclass'), ascending=False\n",
    ").show()"
   ]
  },
  {
   "cell_type": "code",
   "execution_count": 8,
   "id": "2d2ccdaa",
   "metadata": {},
   "outputs": [
    {
     "name": "stdout",
     "output_type": "stream",
     "text": [
      "+-----------+--------+------+--------------------+------+----+-----+-----+--------+--------+-----+--------+\n",
      "|PassengerId|Survived|Pclass|                Name|   Sex| Age|SibSp|Parch|  Ticket|    Fare|Cabin|Embarked|\n",
      "+-----------+--------+------+--------------------+------+----+-----+-----+--------+--------+-----+--------+\n",
      "|        335|       1|     1|Frauenthal, Mrs. ...|female|null|    1|    0|PC 17611|  133.65| null|       S|\n",
      "|        741|       1|     1|Hawksford, Mr. Wa...|  male|null|    0|    0|   16988|    30.0|  D45|       S|\n",
      "|        352|       0|     1|Williams-Lambert,...|  male|null|    0|    0|  113510|    35.0| C128|       S|\n",
      "|         56|       1|     1|   Woolner, Mr. Hugh|  male|null|    0|    0|   19947|    35.5|  C52|       S|\n",
      "|        376|       1|     1|Meyer, Mrs. Edgar...|female|null|    1|    0|PC 17604| 82.1708| null|       C|\n",
      "|        167|       1|     1|Chibnall, Mrs. (E...|female|null|    0|    1|  113505|    55.0|  E33|       S|\n",
      "|        186|       0|     1|Rood, Mr. Hugh Ro...|  male|null|    0|    0|  113767|    50.0|  A32|       S|\n",
      "|        712|       0|     1|  Klaber, Mr. Herman|  male|null|    0|    0|  113028|   26.55| C124|       S|\n",
      "|        257|       1|     1|Thorne, Mrs. Gert...|female|null|    0|    0|PC 17585|    79.2| null|       C|\n",
      "|        271|       0|     1|Cairns, Mr. Alexa...|  male|null|    0|    0|  113798|    31.0| null|       S|\n",
      "|        285|       0|     1|Smith, Mr. Richar...|  male|null|    0|    0|  113056|    26.0|  A19|       S|\n",
      "|        458|       1|     1|Kenyon, Mrs. Fred...|female|null|    1|    0|   17464| 51.8625|  D21|       S|\n",
      "|        299|       1|     1|Saalfeld, Mr. Ado...|  male|null|    0|    0|   19988|    30.5| C106|       S|\n",
      "|        634|       0|     1|Parr, Mr. William...|  male|null|    0|    0|  112052|     0.0| null|       S|\n",
      "|        476|       0|     1|Clifford, Mr. Geo...|  male|null|    0|    0|  110465|    52.0|  A14|       S|\n",
      "|        307|       1|     1|Fleming, Miss. Ma...|female|null|    0|    0|   17421|110.8833| null|       C|\n",
      "|        508|       1|     1|\"Bradley, Mr. Geo...|  male|null|    0|    0|  111427|   26.55| null|       S|\n",
      "|         65|       0|     1|Stewart, Mr. Albe...|  male|null|    0|    0|PC 17605| 27.7208| null|       C|\n",
      "|        528|       0|     1|  Farthing, Mr. John|  male|null|    0|    0|PC 17483|221.7792|  C95|       S|\n",
      "|        670|       1|     1|Taylor, Mrs. Elme...|female|null|    1|    0|   19996|    52.0| C126|       S|\n",
      "+-----------+--------+------+--------------------+------+----+-----+-----+--------+--------+-----+--------+\n",
      "only showing top 20 rows\n",
      "\n"
     ]
    }
   ],
   "source": [
    "# Pclass 내림차순, Age 오름차순 정렬\n",
    "\n",
    "titanic_sdf.orderBy(\n",
    "    [F.col('Pclass'), F.col('Age')]\n",
    ").show()"
   ]
  },
  {
   "cell_type": "code",
   "execution_count": 9,
   "id": "b245160a",
   "metadata": {},
   "outputs": [
    {
     "name": "stdout",
     "output_type": "stream",
     "text": [
      "+-----------+--------+------+--------------------+------+----+-----+-----+---------+--------+-----------+--------+\n",
      "|PassengerId|Survived|Pclass|                Name|   Sex| Age|SibSp|Parch|   Ticket|    Fare|      Cabin|Embarked|\n",
      "+-----------+--------+------+--------------------+------+----+-----+-----+---------+--------+-----------+--------+\n",
      "|        631|       1|     1|Barkworth, Mr. Al...|  male|80.0|    0|    0|    27042|    30.0|        A23|       S|\n",
      "|        494|       0|     1|Artagaveytia, Mr....|  male|71.0|    0|    0| PC 17609| 49.5042|       null|       C|\n",
      "|         97|       0|     1|Goldschmidt, Mr. ...|  male|71.0|    0|    0| PC 17754| 34.6542|         A5|       C|\n",
      "|        746|       0|     1|Crosby, Capt. Edw...|  male|70.0|    1|    1|WE/P 5735|    71.0|        B22|       S|\n",
      "|         55|       0|     1|Ostby, Mr. Engelh...|  male|65.0|    0|    1|   113509| 61.9792|        B30|       C|\n",
      "|        457|       0|     1|Millet, Mr. Franc...|  male|65.0|    0|    0|    13509|   26.55|        E38|       S|\n",
      "|        439|       0|     1|   Fortune, Mr. Mark|  male|64.0|    1|    4|    19950|   263.0|C23 C25 C27|       S|\n",
      "|        546|       0|     1|Nicholson, Mr. Ar...|  male|64.0|    0|    0|      693|    26.0|       null|       S|\n",
      "|        276|       1|     1|Andrews, Miss. Ko...|female|63.0|    1|    0|    13502| 77.9583|         D7|       S|\n",
      "|        830|       1|     1|Stone, Mrs. Georg...|female|62.0|    0|    0|   113572|    80.0|        B28|    null|\n",
      "|        556|       0|     1|  Wright, Mr. George|  male|62.0|    0|    0|   113807|   26.55|       null|       S|\n",
      "|        253|       0|     1|Stead, Mr. Willia...|  male|62.0|    0|    0|   113514|   26.55|        C87|       S|\n",
      "|        171|       0|     1|Van der hoef, Mr....|  male|61.0|    0|    0|   111240|    33.5|        B19|       S|\n",
      "|        626|       0|     1|Sutton, Mr. Frede...|  male|61.0|    0|    0|    36963| 32.3208|        D50|       S|\n",
      "|        367|       1|     1|Warren, Mrs. Fran...|female|60.0|    1|    0|   110813|   75.25|        D37|       C|\n",
      "|        588|       1|     1|Frolicher-Stehli,...|  male|60.0|    1|    1|    13567|    79.2|        B41|       C|\n",
      "|        695|       0|     1|     Weir, Col. John|  male|60.0|    0|    0|   113800|   26.55|       null|       S|\n",
      "|        269|       1|     1|Graham, Mrs. Will...|female|58.0|    0|    1| PC 17582|153.4625|       C125|       S|\n",
      "|        196|       1|     1|Lurette, Miss. Elise|female|58.0|    0|    0| PC 17569|146.5208|        B80|       C|\n",
      "|        488|       0|     1|Kent, Mr. Edward ...|  male|58.0|    0|    0|    11771|    29.7|        B37|       C|\n",
      "+-----------+--------+------+--------------------+------+----+-----+-----+---------+--------+-----------+--------+\n",
      "only showing top 20 rows\n",
      "\n"
     ]
    }
   ],
   "source": [
    "# orderBy와 동일 한 메소드인 sort\n",
    "\n",
    "titanic_sdf.sort(\n",
    "    F.col('Pclass').asc(),\n",
    "    F.col('Age').desc()\n",
    ").show()"
   ]
  },
  {
   "cell_type": "markdown",
   "id": "a722a739",
   "metadata": {},
   "source": [
    "# 문제\n",
    "\n",
    "다음 쿼리를 스파크 데이터 프레임으로 표현하세요..\n",
    "1. ```SQL\n",
    "    select Pclass, Name\n",
    "    from ( select *\n",
    "           from titanic_sdf\n",
    "           order by Pclass asc, Name desc)\n",
    "```\n",
    "\n",
    "2. ```SQL\n",
    "select Pclass, Name\n",
    "from titanic_sdf\n",
    "order by Pclass asc, Name desc\n",
    "```"
   ]
  },
  {
   "cell_type": "code",
   "execution_count": 16,
   "id": "6584850f",
   "metadata": {},
   "outputs": [
    {
     "name": "stdout",
     "output_type": "stream",
     "text": [
      "+------+--------------------+\n",
      "|Pclass|                Name|\n",
      "+------+--------------------+\n",
      "|     1|Young, Miss. Mari...|\n",
      "|     1|  Wright, Mr. George|\n",
      "|     1|   Woolner, Mr. Hugh|\n",
      "|     1|Williams-Lambert,...|\n",
      "|     1|Williams, Mr. Cha...|\n",
      "|     1|Widener, Mr. Harr...|\n",
      "|     1|Wick, Mrs. George...|\n",
      "|     1|Wick, Miss. Mary ...|\n",
      "|     1|White, Mr. Richar...|\n",
      "|     1|White, Mr. Perciv...|\n",
      "|     1|     Weir, Col. John|\n",
      "|     1|Warren, Mrs. Fran...|\n",
      "|     1|    Ward, Miss. Anna|\n",
      "|     1|Walker, Mr. Willi...|\n",
      "|     1|Van der hoef, Mr....|\n",
      "|     1|Uruchurtu, Don. M...|\n",
      "|     1|Thorne, Mrs. Gert...|\n",
      "|     1|Thayer, Mrs. John...|\n",
      "|     1|Thayer, Mr. John ...|\n",
      "|     1|Thayer, Mr. John ...|\n",
      "+------+--------------------+\n",
      "only showing top 20 rows\n",
      "\n"
     ]
    }
   ],
   "source": [
    "# 1\n",
    "titanic_sdf.orderBy(\n",
    "    [F.col('Pclass'), F.col('Name')],\n",
    "    ascending=[True, False]\n",
    ").select(\n",
    "    F.col('Pclass'),\n",
    "    F.col('Name')\n",
    ").show()"
   ]
  },
  {
   "cell_type": "code",
   "execution_count": 17,
   "id": "6efd86bc",
   "metadata": {},
   "outputs": [
    {
     "name": "stdout",
     "output_type": "stream",
     "text": [
      "+------+--------------------+\n",
      "|Pclass|                Name|\n",
      "+------+--------------------+\n",
      "|     1|Young, Miss. Mari...|\n",
      "|     1|  Wright, Mr. George|\n",
      "|     1|   Woolner, Mr. Hugh|\n",
      "|     1|Williams-Lambert,...|\n",
      "|     1|Williams, Mr. Cha...|\n",
      "|     1|Widener, Mr. Harr...|\n",
      "|     1|Wick, Mrs. George...|\n",
      "|     1|Wick, Miss. Mary ...|\n",
      "|     1|White, Mr. Richar...|\n",
      "|     1|White, Mr. Perciv...|\n",
      "|     1|     Weir, Col. John|\n",
      "|     1|Warren, Mrs. Fran...|\n",
      "|     1|    Ward, Miss. Anna|\n",
      "|     1|Walker, Mr. Willi...|\n",
      "|     1|Van der hoef, Mr....|\n",
      "|     1|Uruchurtu, Don. M...|\n",
      "|     1|Thorne, Mrs. Gert...|\n",
      "|     1|Thayer, Mrs. John...|\n",
      "|     1|Thayer, Mr. John ...|\n",
      "|     1|Thayer, Mr. John ...|\n",
      "+------+--------------------+\n",
      "only showing top 20 rows\n",
      "\n"
     ]
    }
   ],
   "source": [
    "# 2\n",
    "titanic_sdf.select(\n",
    "    F.col('Pclass'), F.col('Name')\n",
    ").sort(\n",
    "    F.col('Pclass').asc(),\n",
    "    F.col('Name').desc()\n",
    ").show()"
   ]
  },
  {
   "cell_type": "markdown",
   "id": "83d33cc1",
   "metadata": {},
   "source": [
    "# Agg\n",
    "- Spark DataFrame은 DataFrame 객체에서 집계 메소드가 많이 없다.\n",
    "- 집계에 관련된 메소드는 거의 대부분 `pyspark.sql.functions` 패키지에 있는 함수를 활용"
   ]
  },
  {
   "cell_type": "code",
   "execution_count": 19,
   "id": "f5f7843b",
   "metadata": {},
   "outputs": [
    {
     "data": {
      "text/plain": [
       "29.69911764705882"
      ]
     },
     "execution_count": 19,
     "metadata": {},
     "output_type": "execute_result"
    }
   ],
   "source": [
    "titanic_pdf['Age'].mean()"
   ]
  },
  {
   "cell_type": "code",
   "execution_count": 20,
   "id": "822f395a",
   "metadata": {},
   "outputs": [
    {
     "data": {
      "text/plain": [
       "PassengerId    446.000000\n",
       "Survived         0.383838\n",
       "Pclass           2.308642\n",
       "Age             29.699118\n",
       "SibSp            0.523008\n",
       "Parch            0.381594\n",
       "Fare            32.204208\n",
       "dtype: float64"
      ]
     },
     "execution_count": 20,
     "metadata": {},
     "output_type": "execute_result"
    }
   ],
   "source": [
    "titanic_pdf.mean()"
   ]
  },
  {
   "cell_type": "code",
   "execution_count": 21,
   "id": "9c0ec2d8",
   "metadata": {},
   "outputs": [
    {
     "ename": "AttributeError",
     "evalue": "'DataFrame' object has no attribute 'mean'",
     "output_type": "error",
     "traceback": [
      "\u001b[0;31m---------------------------------------------------------------------------\u001b[0m",
      "\u001b[0;31mAttributeError\u001b[0m                            Traceback (most recent call last)",
      "Cell \u001b[0;32mIn[21], line 1\u001b[0m\n\u001b[0;32m----> 1\u001b[0m \u001b[43mtitanic_sdf\u001b[49m\u001b[38;5;241;43m.\u001b[39;49m\u001b[43mselect\u001b[49m\u001b[43m(\u001b[49m\n\u001b[1;32m      2\u001b[0m \u001b[43m    \u001b[49m\u001b[43mF\u001b[49m\u001b[38;5;241;43m.\u001b[39;49m\u001b[43mcol\u001b[49m\u001b[43m(\u001b[49m\u001b[38;5;124;43m\"\u001b[39;49m\u001b[38;5;124;43mAge\u001b[39;49m\u001b[38;5;124;43m\"\u001b[39;49m\u001b[43m)\u001b[49m\n\u001b[1;32m      3\u001b[0m \u001b[43m)\u001b[49m\u001b[38;5;241;43m.\u001b[39;49m\u001b[43mmean\u001b[49m()\n",
      "File \u001b[0;32m~/miniconda3/envs/spark-env/lib/python3.8/site-packages/pyspark/sql/dataframe.py:1659\u001b[0m, in \u001b[0;36mDataFrame.__getattr__\u001b[0;34m(self, name)\u001b[0m\n\u001b[1;32m   1649\u001b[0m \u001b[38;5;250m\u001b[39m\u001b[38;5;124;03m\"\"\"Returns the :class:`Column` denoted by ``name``.\u001b[39;00m\n\u001b[1;32m   1650\u001b[0m \n\u001b[1;32m   1651\u001b[0m \u001b[38;5;124;03m.. versionadded:: 1.3.0\u001b[39;00m\n\u001b[0;32m   (...)\u001b[0m\n\u001b[1;32m   1656\u001b[0m \u001b[38;5;124;03m[Row(age=2), Row(age=5)]\u001b[39;00m\n\u001b[1;32m   1657\u001b[0m \u001b[38;5;124;03m\"\"\"\u001b[39;00m\n\u001b[1;32m   1658\u001b[0m \u001b[38;5;28;01mif\u001b[39;00m name \u001b[38;5;129;01mnot\u001b[39;00m \u001b[38;5;129;01min\u001b[39;00m \u001b[38;5;28mself\u001b[39m\u001b[38;5;241m.\u001b[39mcolumns:\n\u001b[0;32m-> 1659\u001b[0m     \u001b[38;5;28;01mraise\u001b[39;00m \u001b[38;5;167;01mAttributeError\u001b[39;00m(\n\u001b[1;32m   1660\u001b[0m         \u001b[38;5;124m\"\u001b[39m\u001b[38;5;124m'\u001b[39m\u001b[38;5;132;01m%s\u001b[39;00m\u001b[38;5;124m'\u001b[39m\u001b[38;5;124m object has no attribute \u001b[39m\u001b[38;5;124m'\u001b[39m\u001b[38;5;132;01m%s\u001b[39;00m\u001b[38;5;124m'\u001b[39m\u001b[38;5;124m\"\u001b[39m \u001b[38;5;241m%\u001b[39m (\u001b[38;5;28mself\u001b[39m\u001b[38;5;241m.\u001b[39m\u001b[38;5;18m__class__\u001b[39m\u001b[38;5;241m.\u001b[39m\u001b[38;5;18m__name__\u001b[39m, name))\n\u001b[1;32m   1661\u001b[0m jc \u001b[38;5;241m=\u001b[39m \u001b[38;5;28mself\u001b[39m\u001b[38;5;241m.\u001b[39m_jdf\u001b[38;5;241m.\u001b[39mapply(name)\n\u001b[1;32m   1662\u001b[0m \u001b[38;5;28;01mreturn\u001b[39;00m Column(jc)\n",
      "\u001b[0;31mAttributeError\u001b[0m: 'DataFrame' object has no attribute 'mean'"
     ]
    }
   ],
   "source": [
    "titanic_sdf.select(\n",
    "    F.col(\"Age\")\n",
    ").mean()"
   ]
  },
  {
   "cell_type": "code",
   "execution_count": 22,
   "id": "7bd45223",
   "metadata": {},
   "outputs": [
    {
     "data": {
      "text/plain": [
       "PassengerId    891\n",
       "Survived       891\n",
       "Pclass         891\n",
       "Name           891\n",
       "Sex            891\n",
       "Age            714\n",
       "SibSp          891\n",
       "Parch          891\n",
       "Ticket         891\n",
       "Fare           891\n",
       "Cabin          204\n",
       "Embarked       889\n",
       "dtype: int64"
      ]
     },
     "execution_count": 22,
     "metadata": {},
     "output_type": "execute_result"
    }
   ],
   "source": [
    "titanic_pdf.count()"
   ]
  },
  {
   "cell_type": "code",
   "execution_count": 23,
   "id": "83193c75",
   "metadata": {},
   "outputs": [
    {
     "data": {
      "text/plain": [
       "891"
      ]
     },
     "execution_count": 23,
     "metadata": {},
     "output_type": "execute_result"
    }
   ],
   "source": [
    "titanic_sdf.count()"
   ]
  },
  {
   "cell_type": "code",
   "execution_count": 26,
   "id": "30311155",
   "metadata": {},
   "outputs": [
    {
     "name": "stdout",
     "output_type": "stream",
     "text": [
      "+--------+--------+--------+\n",
      "|max(Age)|min(Age)|sum(Age)|\n",
      "+--------+--------+--------+\n",
      "|    80.0|    0.42|21205.17|\n",
      "+--------+--------+--------+\n",
      "\n"
     ]
    }
   ],
   "source": [
    "titanic_sdf_agg = titanic_sdf.select(\n",
    "    F.max(F.col('Age')),\n",
    "    F.min(F.col('Age')),\n",
    "    F.sum(F.col('Age'))\n",
    ")\n",
    "titanic_sdf_agg.show()\n",
    "\n",
    "# 항상 00 떄문에 sleclt를 활용해서 집계한다 2.2.28"
   ]
  },
  {
   "cell_type": "markdown",
   "id": "2b79e6cc",
   "metadata": {},
   "source": [
    "# Group By"
   ]
  },
  {
   "cell_type": "code",
   "execution_count": 28,
   "id": "22c26e75",
   "metadata": {},
   "outputs": [
    {
     "data": {
      "text/plain": [
       "<pandas.core.groupby.generic.DataFrameGroupBy object at 0x7f424b503730>"
      ]
     },
     "execution_count": 28,
     "metadata": {},
     "output_type": "execute_result"
    }
   ],
   "source": [
    "titanic_pdf_groupBy = titanic_pdf.groupby('Pclass')\n",
    "titanic_pdf_groupBy"
   ]
  },
  {
   "cell_type": "code",
   "execution_count": 30,
   "id": "bc776b99",
   "metadata": {},
   "outputs": [
    {
     "data": {
      "text/html": [
       "<div>\n",
       "<style scoped>\n",
       "    .dataframe tbody tr th:only-of-type {\n",
       "        vertical-align: middle;\n",
       "    }\n",
       "\n",
       "    .dataframe tbody tr th {\n",
       "        vertical-align: top;\n",
       "    }\n",
       "\n",
       "    .dataframe thead th {\n",
       "        text-align: right;\n",
       "    }\n",
       "</style>\n",
       "<table border=\"1\" class=\"dataframe\">\n",
       "  <thead>\n",
       "    <tr style=\"text-align: right;\">\n",
       "      <th></th>\n",
       "      <th>PassengerId</th>\n",
       "      <th>Survived</th>\n",
       "      <th>Name</th>\n",
       "      <th>Sex</th>\n",
       "      <th>Age</th>\n",
       "      <th>SibSp</th>\n",
       "      <th>Parch</th>\n",
       "      <th>Ticket</th>\n",
       "      <th>Fare</th>\n",
       "      <th>Cabin</th>\n",
       "      <th>Embarked</th>\n",
       "    </tr>\n",
       "    <tr>\n",
       "      <th>Pclass</th>\n",
       "      <th></th>\n",
       "      <th></th>\n",
       "      <th></th>\n",
       "      <th></th>\n",
       "      <th></th>\n",
       "      <th></th>\n",
       "      <th></th>\n",
       "      <th></th>\n",
       "      <th></th>\n",
       "      <th></th>\n",
       "      <th></th>\n",
       "    </tr>\n",
       "  </thead>\n",
       "  <tbody>\n",
       "    <tr>\n",
       "      <th>1</th>\n",
       "      <td>216</td>\n",
       "      <td>216</td>\n",
       "      <td>216</td>\n",
       "      <td>216</td>\n",
       "      <td>186</td>\n",
       "      <td>216</td>\n",
       "      <td>216</td>\n",
       "      <td>216</td>\n",
       "      <td>216</td>\n",
       "      <td>176</td>\n",
       "      <td>214</td>\n",
       "    </tr>\n",
       "    <tr>\n",
       "      <th>2</th>\n",
       "      <td>184</td>\n",
       "      <td>184</td>\n",
       "      <td>184</td>\n",
       "      <td>184</td>\n",
       "      <td>173</td>\n",
       "      <td>184</td>\n",
       "      <td>184</td>\n",
       "      <td>184</td>\n",
       "      <td>184</td>\n",
       "      <td>16</td>\n",
       "      <td>184</td>\n",
       "    </tr>\n",
       "    <tr>\n",
       "      <th>3</th>\n",
       "      <td>491</td>\n",
       "      <td>491</td>\n",
       "      <td>491</td>\n",
       "      <td>491</td>\n",
       "      <td>355</td>\n",
       "      <td>491</td>\n",
       "      <td>491</td>\n",
       "      <td>491</td>\n",
       "      <td>491</td>\n",
       "      <td>12</td>\n",
       "      <td>491</td>\n",
       "    </tr>\n",
       "  </tbody>\n",
       "</table>\n",
       "</div>"
      ],
      "text/plain": [
       "        PassengerId  Survived  Name  Sex  Age  SibSp  Parch  Ticket  Fare  \\\n",
       "Pclass                                                                      \n",
       "1               216       216   216  216  186    216    216     216   216   \n",
       "2               184       184   184  184  173    184    184     184   184   \n",
       "3               491       491   491  491  355    491    491     491   491   \n",
       "\n",
       "        Cabin  Embarked  \n",
       "Pclass                   \n",
       "1         176       214  \n",
       "2          16       184  \n",
       "3          12       491  "
      ]
     },
     "execution_count": 30,
     "metadata": {},
     "output_type": "execute_result"
    }
   ],
   "source": [
    "titanic_pdf_groupBy.count()\n",
    "\n",
    "# count() 집계합수를 사용해줘야지만이 출력된다"
   ]
  },
  {
   "cell_type": "code",
   "execution_count": 32,
   "id": "f4725f76",
   "metadata": {},
   "outputs": [
    {
     "data": {
      "text/html": [
       "<div>\n",
       "<style scoped>\n",
       "    .dataframe tbody tr th:only-of-type {\n",
       "        vertical-align: middle;\n",
       "    }\n",
       "\n",
       "    .dataframe tbody tr th {\n",
       "        vertical-align: top;\n",
       "    }\n",
       "\n",
       "    .dataframe thead th {\n",
       "        text-align: right;\n",
       "    }\n",
       "</style>\n",
       "<table border=\"1\" class=\"dataframe\">\n",
       "  <thead>\n",
       "    <tr style=\"text-align: right;\">\n",
       "      <th></th>\n",
       "      <th>Age</th>\n",
       "      <th>SibSp</th>\n",
       "      <th>Fare</th>\n",
       "    </tr>\n",
       "    <tr>\n",
       "      <th>Pclass</th>\n",
       "      <th></th>\n",
       "      <th></th>\n",
       "      <th></th>\n",
       "    </tr>\n",
       "  </thead>\n",
       "  <tbody>\n",
       "    <tr>\n",
       "      <th>1</th>\n",
       "      <td>80.0</td>\n",
       "      <td>90</td>\n",
       "      <td>84.154687</td>\n",
       "    </tr>\n",
       "    <tr>\n",
       "      <th>2</th>\n",
       "      <td>70.0</td>\n",
       "      <td>74</td>\n",
       "      <td>20.662183</td>\n",
       "    </tr>\n",
       "    <tr>\n",
       "      <th>3</th>\n",
       "      <td>74.0</td>\n",
       "      <td>302</td>\n",
       "      <td>13.675550</td>\n",
       "    </tr>\n",
       "  </tbody>\n",
       "</table>\n",
       "</div>"
      ],
      "text/plain": [
       "         Age  SibSp       Fare\n",
       "Pclass                        \n",
       "1       80.0     90  84.154687\n",
       "2       70.0     74  20.662183\n",
       "3       74.0    302  13.675550"
      ]
     },
     "execution_count": 32,
     "metadata": {},
     "output_type": "execute_result"
    }
   ],
   "source": [
    "# 특정 컬럼에 특정 집계 연산 수행 - agg\n",
    "agg_format = {\n",
    "    'Age': 'max',\n",
    "    'SibSp': 'sum',\n",
    "    'Fare': 'mean'\n",
    "}\n",
    "\n",
    "titanic_pdf_groupBy.agg(agg_format)"
   ]
  },
  {
   "cell_type": "code",
   "execution_count": 33,
   "id": "8aff95f0",
   "metadata": {},
   "outputs": [
    {
     "name": "stdout",
     "output_type": "stream",
     "text": [
      "+------+-----+\n",
      "|Pclass|count|\n",
      "+------+-----+\n",
      "|     1|  216|\n",
      "|     3|  491|\n",
      "|     2|  184|\n",
      "+------+-----+\n",
      "\n"
     ]
    },
    {
     "data": {
      "text/plain": [
       "'\\nSELECT\\n    Pclass,\\n    count(*) as count\\nFROM titain_sdf\\nGROUPBY Pclass\\n'"
      ]
     },
     "execution_count": 33,
     "metadata": {},
     "output_type": "execute_result"
    }
   ],
   "source": [
    "# 스파크 SQL를 사용할때는 항상 SQL을 기준으로 생각해서 진행!!\n",
    "titanic_sdf.groupby(\n",
    "    F.col(\"Pclass\")\n",
    ").count().show()\n",
    "\n",
    "'''\n",
    "SELECT\n",
    "    Pclass,\n",
    "    count(*) as count\n",
    "FROM titain_sdf\n",
    "GROUPBY Pclass\n",
    "'''"
   ]
  },
  {
   "cell_type": "code",
   "execution_count": 34,
   "id": "8d897b21",
   "metadata": {},
   "outputs": [
    {
     "name": "stdout",
     "output_type": "stream",
     "text": [
      "+------+-----+\n",
      "|Pclass|count|\n",
      "+------+-----+\n",
      "|     3|  491|\n",
      "|     1|  216|\n",
      "|     2|  184|\n",
      "+------+-----+\n",
      "\n"
     ]
    }
   ],
   "source": [
    "# count 기준 내림 차순 정렬\n",
    "titanic_sdf.groupby('Pclass').count().orderBy(F.col('count'), ascending = False).show()"
   ]
  },
  {
   "cell_type": "code",
   "execution_count": 35,
   "id": "d4068964",
   "metadata": {},
   "outputs": [
    {
     "name": "stdout",
     "output_type": "stream",
     "text": [
      "+------+----------------+-------------+-----------+--------+----------+----------+---------+\n",
      "|pclass|max(PassengerId)|max(Survived)|max(Pclass)|max(Age)|max(SibSp)|max(Parch)|max(Fare)|\n",
      "+------+----------------+-------------+-----------+--------+----------+----------+---------+\n",
      "|     1|             890|            1|          1|    80.0|         3|         4| 512.3292|\n",
      "|     3|             891|            1|          3|    74.0|         8|         6|    69.55|\n",
      "|     2|             887|            1|          2|    70.0|         3|         3|     73.5|\n",
      "+------+----------------+-------------+-----------+--------+----------+----------+---------+\n",
      "\n"
     ]
    },
    {
     "data": {
      "text/plain": [
       "'\\nSELECT\\n    Pclass\\n    max(PassngerId),\\n    max(Survived),\\n    max(Pclass),\\n    \\n'"
      ]
     },
     "execution_count": 35,
     "metadata": {},
     "output_type": "execute_result"
    }
   ],
   "source": [
    "# count가 아닌 다른 집계 함수를 이용해 groupBy를 적용하면 pandas 데이터 프레임과 유사하게 컬럼 레벨로 집계\n",
    "\n",
    "titanic_sdf.groupby('pclass').max().show()\n",
    "\n",
    "# GroupBy 한다음에 모든걸을 집계하는것은 상관 없이 실행된다\n",
    "# GroupBy 에서는 집계함수를 적용하지 못한것을 실행하는게 문제이다!\n",
    "'''\n",
    "SELECT\n",
    "    Pclass\n",
    "    max(PassngerId),\n",
    "    max(Survived),\n",
    "    max(Pclass),\n",
    "    \n",
    "'''"
   ]
  },
  {
   "cell_type": "code",
   "execution_count": 37,
   "id": "e6a8bcee",
   "metadata": {},
   "outputs": [
    {
     "name": "stdout",
     "output_type": "stream",
     "text": [
      "+------+--------+\n",
      "|pclass|max(Age)|\n",
      "+------+--------+\n",
      "|     1|    80.0|\n",
      "|     3|    74.0|\n",
      "|     2|    70.0|\n",
      "+------+--------+\n",
      "\n"
     ]
    }
   ],
   "source": [
    "# 특정 컬럼에 대한 집계, 집계함수 안에서는 컬럼 속성 사용 금지\n",
    "titanic_sdf.groupby('pclass').max('Age').show()"
   ]
  },
  {
   "cell_type": "code",
   "execution_count": 38,
   "id": "afd07725",
   "metadata": {},
   "outputs": [
    {
     "name": "stdout",
     "output_type": "stream",
     "text": [
      "+------+--------+--------+\n",
      "|pclass|Embarked|max(Age)|\n",
      "+------+--------+--------+\n",
      "|     3|       C|    45.5|\n",
      "|     2|       C|    36.0|\n",
      "|     1|    null|    62.0|\n",
      "|     1|       Q|    44.0|\n",
      "|     3|       Q|    70.5|\n",
      "|     2|       Q|    57.0|\n",
      "|     1|       C|    71.0|\n",
      "|     1|       S|    80.0|\n",
      "|     3|       S|    74.0|\n",
      "|     2|       S|    70.0|\n",
      "+------+--------+--------+\n",
      "\n"
     ]
    }
   ],
   "source": [
    "# 여러 컬럼을 집계 대상으로 설정하기\n",
    "\n",
    "titanic_sdf.groupby(\n",
    "    [F.col('pclass'), F.col('Embarked')]\n",
    ").max('Age').show()"
   ]
  },
  {
   "cell_type": "code",
   "execution_count": 39,
   "id": "5ff5946c",
   "metadata": {},
   "outputs": [
    {
     "name": "stdout",
     "output_type": "stream",
     "text": [
      "+------+-------+------------------+\n",
      "|Pclass|sum_age|          avg_fare|\n",
      "+------+-------+------------------+\n",
      "|     1|7111.42| 84.15468749999992|\n",
      "|     3|8924.92|13.675550101832997|\n",
      "|     2|5168.83| 20.66218315217391|\n",
      "+------+-------+------------------+\n",
      "\n"
     ]
    }
   ],
   "source": [
    "# agg 함수 활용 시 F.col을 사용할 수 있다\n",
    "\n",
    "titanic_sdf.groupby(F.col('Pclass')).agg(\n",
    "    F.sum(F.col('Age')).alias('sum_age'),\n",
    "    F.avg(F.col('Fare')).alias('avg_fare')    \n",
    ").show()"
   ]
  },
  {
   "cell_type": "code",
   "execution_count": null,
   "id": "01ac7da4",
   "metadata": {},
   "outputs": [],
   "source": []
  },
  {
   "cell_type": "code",
   "execution_count": 40,
   "id": "d5380dd9",
   "metadata": {},
   "outputs": [],
   "source": [
    "spark.stop()"
   ]
  },
  {
   "cell_type": "code",
   "execution_count": null,
   "id": "f82b7c73",
   "metadata": {},
   "outputs": [],
   "source": []
  }
 ],
 "metadata": {
  "kernelspec": {
   "display_name": "Python 3 (ipykernel)",
   "language": "python",
   "name": "python3"
  },
  "language_info": {
   "codemirror_mode": {
    "name": "ipython",
    "version": 3
   },
   "file_extension": ".py",
   "mimetype": "text/x-python",
   "name": "python",
   "nbconvert_exporter": "python",
   "pygments_lexer": "ipython3",
   "version": "3.8.18"
  }
 },
 "nbformat": 4,
 "nbformat_minor": 5
}
