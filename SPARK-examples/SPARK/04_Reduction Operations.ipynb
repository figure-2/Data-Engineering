{
 "cells": [
  {
   "cell_type": "code",
   "execution_count": 19,
   "id": "62fb6717",
   "metadata": {},
   "outputs": [
    {
     "name": "stderr",
     "output_type": "stream",
     "text": [
      "23/11/15 14:13:35 WARN Utils: Service 'SparkUI' could not bind on port 4040. Attempting port 4041.\n"
     ]
    },
    {
     "data": {
      "text/html": [
       "\n",
       "        <div>\n",
       "            <p><b>SparkContext</b></p>\n",
       "\n",
       "            <p><a href=\"http://0.0.0.0:4041\">Spark UI</a></p>\n",
       "\n",
       "            <dl>\n",
       "              <dt>Version</dt>\n",
       "                <dd><code>v3.2.4</code></dd>\n",
       "              <dt>Master</dt>\n",
       "                <dd><code>local</code></dd>\n",
       "              <dt>AppName</dt>\n",
       "                <dd><code>restaurant_reviews.csv</code></dd>\n",
       "            </dl>\n",
       "        </div>\n",
       "        "
      ],
      "text/plain": [
       "<SparkContext master=local appName=restaurant_reviews.csv>"
      ]
     },
     "execution_count": 19,
     "metadata": {},
     "output_type": "execute_result"
    }
   ],
   "source": [
    "from pyspark import SparkConf, SparkContext\n",
    "\n",
    "conf = SparkConf().setMaster('local').setAppName('restaurant_reviews.csv')\n",
    "sc = SparkContext(conf=conf)\n",
    "sc"
   ]
  },
  {
   "cell_type": "markdown",
   "id": "d3446517",
   "metadata": {},
   "source": [
    "# Reduce\n",
    "\n",
    "- RDD.reduce(<task>)\n",
    "-"
   ]
  },
  {
   "cell_type": "code",
   "execution_count": 20,
   "id": "84aebad1",
   "metadata": {},
   "outputs": [],
   "source": [
    "from operator import add"
   ]
  },
  {
   "cell_type": "code",
   "execution_count": 21,
   "id": "4bea5410",
   "metadata": {},
   "outputs": [
    {
     "name": "stderr",
     "output_type": "stream",
     "text": [
      "                                                                                \r"
     ]
    },
    {
     "data": {
      "text/plain": [
       "15"
      ]
     },
     "execution_count": 21,
     "metadata": {},
     "output_type": "execute_result"
    }
   ],
   "source": [
    "sample_rdd = sc.parallelize([1, 2, 3, 4, 5]).reduce(add) # add : lambda x, y : x + y\n",
    "sample_rdd"
   ]
  },
  {
   "cell_type": "markdown",
   "id": "f5be6a87",
   "metadata": {},
   "source": [
    "# 파티션에 따라 결과물이 달라진다.\n",
    "\n",
    "- 분산된 파티션들의 연산과 합치는 부분을 나눠서 생각해야 함\n",
    "    lambda x, y : (x * 2) + y"
   ]
  },
  {
   "cell_type": "code",
   "execution_count": 22,
   "id": "e4a8be4a",
   "metadata": {},
   "outputs": [
    {
     "data": {
      "text/plain": [
       "26"
      ]
     },
     "execution_count": 22,
     "metadata": {},
     "output_type": "execute_result"
    }
   ],
   "source": [
    "# 파티션이 1개인 경우\n",
    "sc.parallelize([1, 2, 3, 4]).reduce(lambda x, y : (x * 2) + y)"
   ]
  },
  {
   "cell_type": "code",
   "execution_count": 23,
   "id": "0f0c314b",
   "metadata": {},
   "outputs": [
    {
     "data": {
      "text/plain": [
       "18"
      ]
     },
     "execution_count": 23,
     "metadata": {},
     "output_type": "execute_result"
    }
   ],
   "source": [
    "# 파티션이 2개인 경우\n",
    "sc.parallelize([1,2,3,4],2).reduce(lambda x, y : (x * 2) + y)"
   ]
  },
  {
   "cell_type": "code",
   "execution_count": 24,
   "id": "0df02ff4",
   "metadata": {},
   "outputs": [
    {
     "data": {
      "text/plain": [
       "18"
      ]
     },
     "execution_count": 24,
     "metadata": {},
     "output_type": "execute_result"
    }
   ],
   "source": [
    "# 파티션이 3개인 경우\n",
    "sc.parallelize([1,2,3,4],3).reduce(lambda x, y : (x * 2) + y)"
   ]
  },
  {
   "cell_type": "code",
   "execution_count": 25,
   "id": "74c0295b",
   "metadata": {},
   "outputs": [
    {
     "data": {
      "text/plain": [
       "26"
      ]
     },
     "execution_count": 25,
     "metadata": {},
     "output_type": "execute_result"
    }
   ],
   "source": [
    "# 파티션이 4개인 경우\n",
    "sc.parallelize([1,2,3,4],4).reduce(lambda x, y : (x * 2) + y)"
   ]
  },
  {
   "cell_type": "markdown",
   "id": "e509a972",
   "metadata": {},
   "source": [
    "# Fold\n",
    "- RDD.fold(zeroValue, <task>\n",
    "- reduce와 비슷하지만, 시작값을 zeroValue에 넣어놓고 reduce 할 수 있다.   "
   ]
  },
  {
   "cell_type": "code",
   "execution_count": 26,
   "id": "d7cb0642",
   "metadata": {},
   "outputs": [],
   "source": [
    "rdd = sc.parallelize([2, 3, 4],4)"
   ]
  },
  {
   "cell_type": "code",
   "execution_count": 27,
   "id": "97ddf437",
   "metadata": {},
   "outputs": [
    {
     "name": "stdout",
     "output_type": "stream",
     "text": [
      "24\n",
      "24\n"
     ]
    }
   ],
   "source": [
    "print(rdd.reduce(lambda x, y : (x * y))) # 2 * 3 = 6, 6 * 4 = 24\n",
    "print(rdd.fold(1, lambda x, y : (x * y))) "
   ]
  },
  {
   "cell_type": "code",
   "execution_count": 28,
   "id": "7c4bef0e",
   "metadata": {},
   "outputs": [
    {
     "name": "stdout",
     "output_type": "stream",
     "text": [
      "9\n"
     ]
    }
   ],
   "source": [
    "print(rdd.reduce(lambda x, y : x + y))"
   ]
  },
  {
   "cell_type": "code",
   "execution_count": 29,
   "id": "c2646cc9",
   "metadata": {},
   "outputs": [
    {
     "name": "stdout",
     "output_type": "stream",
     "text": [
      "14\n"
     ]
    }
   ],
   "source": [
    "print(rdd.fold(1, lambda x, y : x + y))"
   ]
  },
  {
   "cell_type": "markdown",
   "id": "3604b14a",
   "metadata": {},
   "source": [
    "# Aggregate(Action)\n",
    "\n",
    "- RDD.aggregate(zeroValue, seq0p, comb0p\n",
    "        - zeroValue : 각 파티션에서 누적할 시작값\n",
    "        - seq0p : 타입 변경 함수, 파티션 내부에서 사용할 task\n",
    "        - comb0p : 합치는 함수, 파티션 끼리 사용할 task"
   ]
  },
  {
   "cell_type": "code",
   "execution_count": 34,
   "id": "dd7aab3d",
   "metadata": {},
   "outputs": [],
   "source": [
    "rdd = sc.parallelize([1,2,3,4,],2)"
   ]
  },
  {
   "cell_type": "code",
   "execution_count": 37,
   "id": "2d6c5b44",
   "metadata": {},
   "outputs": [],
   "source": [
    "seqOp = (lambda x, y: (x[0] + y, x[1] + 1)) # 파티션 내의 연산\n",
    "combOp = (lambda x, y: (x[0] + y[0], x[1] + y[1])) # 파티션의 모든 결과를 최종 연산"
   ]
  },
  {
   "cell_type": "code",
   "execution_count": 38,
   "id": "2e0212c7",
   "metadata": {},
   "outputs": [
    {
     "data": {
      "text/plain": [
       "(10, 4)"
      ]
     },
     "execution_count": 38,
     "metadata": {},
     "output_type": "execute_result"
    }
   ],
   "source": [
    "rdd.aggregate((0, 0), seqOp, combOp)"
   ]
  },
  {
   "cell_type": "code",
   "execution_count": null,
   "id": "de79266f",
   "metadata": {},
   "outputs": [],
   "source": []
  },
  {
   "cell_type": "code",
   "execution_count": 39,
   "id": "00693a95",
   "metadata": {},
   "outputs": [],
   "source": [
    "sc.stop()"
   ]
  },
  {
   "cell_type": "code",
   "execution_count": null,
   "id": "d0e1673a",
   "metadata": {},
   "outputs": [],
   "source": []
  },
  {
   "cell_type": "code",
   "execution_count": null,
   "id": "788bc971",
   "metadata": {},
   "outputs": [],
   "source": []
  }
 ],
 "metadata": {
  "kernelspec": {
   "display_name": "Python 3 (ipykernel)",
   "language": "python",
   "name": "python3"
  },
  "language_info": {
   "codemirror_mode": {
    "name": "ipython",
    "version": 3
   },
   "file_extension": ".py",
   "mimetype": "text/x-python",
   "name": "python",
   "nbconvert_exporter": "python",
   "pygments_lexer": "ipython3",
   "version": "3.8.18"
  }
 },
 "nbformat": 4,
 "nbformat_minor": 5
}
